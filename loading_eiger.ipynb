{
 "cells": [
  {
   "cell_type": "code",
   "execution_count": 1,
   "id": "8de49f28-c959-469d-a8da-781e0d5994bb",
   "metadata": {},
   "outputs": [
    {
     "name": "stderr",
     "output_type": "stream",
     "text": [
      "OBJECT CACHE: Will use up to 121_695_745_228 bytes (15% of total physical RAM)\n",
      "12:09:52.642 -> GET 'http://local-tiled-app/api/?root_path=true' 'host:local-tiled-app' 'accept:*/*' 'connection:keep-alive' 'user-agent:python-tiled/0.1.0a61' 'accept-encoding:gzip,blosc'\n",
      "12:09:52.658 <- 200 etag:31137cd95d17ba6e24a6d68c9545bb93 expires:Fri, 20 May 2022 16:19:52 GMT content-length:504 content-type:application/json content-encoding:gzip vary:Accept-Encoding server-timing:tok;dur=0.1, pack;dur=0.0, compress;dur=0.1;ratio=3.4, app;dur=6.2 set-cookie:tiled_csrf=N2mWeId0VaVeoFh5Imzjj1TEz40amg_IpH0jwvTw3tY; HttpOnly; Path=/; SameSite=lax\n",
      "12:09:52.663 -> GET 'http://local-tiled-app/api/?root_path=true' 'host:local-tiled-app' 'accept:application/x-msgpack' 'connection:keep-alive' 'user-agent:python-tiled/0.1.0a61' 'accept-encoding:gzip,blosc' 'cookie:tiled_csrf=N2mWeId0VaVeoFh5Imzjj1TEz40amg_IpH0jwvTw3tY'\n",
      "12:09:52.671 <- 200 etag:31137cd95d17ba6e24a6d68c9545bb93 expires:Fri, 20 May 2022 16:19:52 GMT content-length:502 content-type:application/x-msgpack content-encoding:gzip vary:Accept-Encoding server-timing:tok;dur=0.1, pack;dur=0.1, compress;dur=0.1;ratio=2.9, app;dur=5.5\n",
      "12:09:52.745 -> GET 'http://local-tiled-app/api/node/metadata/' 'host:local-tiled-app' 'accept:application/x-msgpack' 'connection:keep-alive' 'user-agent:python-tiled/0.1.0a61' 'accept-encoding:gzip,blosc' 'cookie:tiled_csrf=N2mWeId0VaVeoFh5Imzjj1TEz40amg_IpH0jwvTw3tY'\n",
      "12:09:52.962 <- 200 etag:29038baceda338ecbdc9f2a20a32ee51 expires:Fri, 20 May 2022 16:19:52 GMT content-length:319 content-type:application/x-msgpack server-timing:tok;dur=0.1, pack;dur=0.0, app;dur=212.6\n"
     ]
    }
   ],
   "source": [
    "import numpy as np\n",
    "import matplotlib.pyplot as plt\n",
    "import time\n",
    "    \n",
    "    \n",
    "from tiled.client import show_logs\n",
    "show_logs()    \n",
    "from tiled.client import from_profile\n",
    "c = from_profile(\"chx\", \"dask\")\n",
    "from databroker.queries import TimeRange\n",
    "results = c.search(TimeRange(since=\"2021-08\"))"
   ]
  },
  {
   "cell_type": "code",
   "execution_count": 2,
   "id": "4fc33f5b-3a1d-4ad1-9755-935830582522",
   "metadata": {},
   "outputs": [],
   "source": [
    "id = [[59832, 'eiger1m_single_image'], [59900, 'eiger1m_single_image'], [62239, 'eiger4m_single_image']]"
   ]
  },
  {
   "cell_type": "code",
   "execution_count": 3,
   "id": "0d4dc9d0-a6fd-45d5-9287-c76a20ec5768",
   "metadata": {},
   "outputs": [
    {
     "name": "stderr",
     "output_type": "stream",
     "text": [
      "12:10:03.125 -> GET 'http://local-tiled-app/api/node/search/?fields=&filter%5Btime_range%5D%5Bcondition%5D%5Btimezone%5D=EST5EDT&filter%5Btime_range%5D%5Bcondition%5D%5Bsince%5D=1627790400.0&filter%5Bscan_id%5D%5Bcondition%5D%5Bscan_ids%5D=59832&filter%5Bscan_id%5D%5Bcondition%5D%5Bduplicates%5D=latest&sort=time' 'host:local-tiled-app' 'accept:application/x-msgpack' 'connection:keep-alive' 'user-agent:python-tiled/0.1.0a61' 'accept-encoding:gzip,blosc' 'cookie:tiled_csrf=N2mWeId0VaVeoFh5Imzjj1TEz40amg_IpH0jwvTw3tY'\n",
      "12:10:03.391 <- 200 etag:ed551d7a105431b2a21a997d6562a521 content-length:424 content-type:application/x-msgpack server-timing:tok;dur=0.1, pack;dur=0.0, app;dur=261.0\n",
      "12:10:03.399 -> GET 'http://local-tiled-app/api/node/search/?page%5Boffset%5D=0&page%5Blimit%5D=1&filter%5Btime_range%5D%5Bcondition%5D%5Btimezone%5D=EST5EDT&filter%5Btime_range%5D%5Bcondition%5D%5Bsince%5D=1627790400.0&filter%5Bscan_id%5D%5Bcondition%5D%5Bscan_ids%5D=59832&filter%5Bscan_id%5D%5Bcondition%5D%5Bduplicates%5D=latest&sort=time' 'host:local-tiled-app' 'accept:application/x-msgpack' 'connection:keep-alive' 'user-agent:python-tiled/0.1.0a61' 'accept-encoding:gzip,blosc' 'cookie:tiled_csrf=N2mWeId0VaVeoFh5Imzjj1TEz40amg_IpH0jwvTw3tY'\n",
      "12:10:03.422 <- 200 etag:22a943930baca8d50d7575dc03ed6116 content-length:1348 content-type:application/x-msgpack content-encoding:gzip vary:Accept-Encoding server-timing:tok;dur=0.2, pack;dur=0.0, compress;dur=0.3;ratio=2.8, app;dur=18.4\n",
      "12:10:03.431 -> GET 'http://local-tiled-app/api/node/search/5457ff5b-9f18-46a2-8d4d-ececa792c09d?filter%5Blookup%5D%5Bcondition%5D%5Bkey%5D=primary&sort=_' 'host:local-tiled-app' 'accept:application/x-msgpack' 'connection:keep-alive' 'user-agent:python-tiled/0.1.0a61' 'accept-encoding:gzip,blosc' 'cookie:tiled_csrf=N2mWeId0VaVeoFh5Imzjj1TEz40amg_IpH0jwvTw3tY'\n",
      "12:10:03.463 <- 200 etag:43d3aadebfeb1de98ddd7e40784b5aa1 expires:Fri, 20 May 2022 17:10:03 GMT content-length:2569 content-type:application/x-msgpack content-encoding:gzip vary:Accept-Encoding server-timing:acl;dur=9.1, tok;dur=0.8, pack;dur=0.2, compress;dur=0.8;ratio=7.5, app;dur=27.7\n",
      "12:10:03.473 -> GET 'http://local-tiled-app/api/node/search/5457ff5b-9f18-46a2-8d4d-ececa792c09d/primary?filter%5Blookup%5D%5Bcondition%5D%5Bkey%5D=data&sort=_' 'host:local-tiled-app' 'accept:application/x-msgpack' 'connection:keep-alive' 'user-agent:python-tiled/0.1.0a61' 'accept-encoding:gzip,blosc' 'cookie:tiled_csrf=N2mWeId0VaVeoFh5Imzjj1TEz40amg_IpH0jwvTw3tY'\n",
      "12:10:03.512 <- 200 etag:527c29d2b5abc08bf827ac1205f8cc54 expires:Fri, 20 May 2022 17:10:03 GMT content-length:2914 content-type:application/x-msgpack content-encoding:gzip vary:Accept-Encoding server-timing:acl;dur=0.1, tok;dur=1.0, pack;dur=0.3, compress;dur=0.9;ratio=7.8, app;dur=34.4\n",
      "12:10:03.521 -> GET 'http://local-tiled-app/api/array/block/5457ff5b-9f18-46a2-8d4d-ececa792c09d/primary/data/coords/time/variable?block=0&expected_shape=40' 'host:local-tiled-app' 'connection:keep-alive' 'user-agent:python-tiled/0.1.0a61' 'accept-encoding:gzip,blosc' 'accept:application/octet-stream' 'cookie:tiled_csrf=N2mWeId0VaVeoFh5Imzjj1TEz40amg_IpH0jwvTw3tY'\n",
      "12:10:03.544 <- 200 etag:72ea48226b22df555c967bf5b900b01c content-length:320 content-type:application/octet-stream server-timing:acl;dur=0.2, read;dur=2.5, tok;dur=0.2, pack;dur=0.3, app;dur=19.5\n",
      "12:10:03.827 -> GET 'http://local-tiled-app/api/node/full/5457ff5b-9f18-46a2-8d4d-ececa792c09d/primary/data?format=application%2Fvnd.apache.arrow.file&field=eiger1m_single_stats1_total&field=eiger1m_single_stats2_total&field=eiger1m_single_stats3_total&field=eiger1m_single_stats4_total&field=eiger1m_single_stats5_total&field=diff_phh&field=diff_phh_user_setpoint' 'host:local-tiled-app' 'accept:*/*' 'connection:keep-alive' 'user-agent:python-tiled/0.1.0a61' 'accept-encoding:gzip,blosc' 'cookie:tiled_csrf=N2mWeId0VaVeoFh5Imzjj1TEz40amg_IpH0jwvTw3tY'\n",
      "12:10:03.876 <- 200 etag:22940911da00728a0ebcc6fd5f9a6669 expires:Fri, 20 May 2022 17:10:03 GMT content-length:2719 content-type:application/vnd.apache.arrow.file content-encoding:blosc vary:Accept-Encoding server-timing:acl;dur=0.1, read;dur=11.8, tok;dur=8.4, pack;dur=19.6, compress;dur=0.1;ratio=2.6, app;dur=43.9\n",
      "12:10:03.916 -> GET 'http://local-tiled-app/api/array/block/5457ff5b-9f18-46a2-8d4d-ececa792c09d/primary/data/data_vars/eiger1m_single_image/variable?block=0%2C0%2C0%2C0&expected_shape=10%2C10%2C355%2C500' 'host:local-tiled-app' 'connection:keep-alive' 'user-agent:python-tiled/0.1.0a61' 'accept-encoding:gzip,blosc' 'accept:application/octet-stream' 'cookie:tiled_csrf=N2mWeId0VaVeoFh5Imzjj1TEz40amg_IpH0jwvTw3tY'\n",
      "12:10:03.919 -> GET 'http://local-tiled-app/api/array/block/5457ff5b-9f18-46a2-8d4d-ececa792c09d/primary/data/data_vars/eiger1m_single_image/variable?block=0%2C0%2C0%2C1&expected_shape=10%2C10%2C355%2C500' 'host:local-tiled-app' 'connection:keep-alive' 'user-agent:python-tiled/0.1.0a61' 'accept-encoding:gzip,blosc' 'accept:application/octet-stream' 'cookie:tiled_csrf=N2mWeId0VaVeoFh5Imzjj1TEz40amg_IpH0jwvTw3tY'\n",
      "12:10:03.923 -> GET 'http://local-tiled-app/api/array/block/5457ff5b-9f18-46a2-8d4d-ececa792c09d/primary/data/data_vars/eiger1m_single_image/variable?block=0%2C0%2C0%2C2&expected_shape=10%2C10%2C355%2C30' 'host:local-tiled-app' 'connection:keep-alive' 'user-agent:python-tiled/0.1.0a61' 'accept-encoding:gzip,blosc' 'accept:application/octet-stream' 'cookie:tiled_csrf=N2mWeId0VaVeoFh5Imzjj1TEz40amg_IpH0jwvTw3tY'\n",
      "12:10:03.924 -> GET 'http://local-tiled-app/api/array/block/5457ff5b-9f18-46a2-8d4d-ececa792c09d/primary/data/data_vars/eiger1m_single_image/variable?block=0%2C0%2C1%2C0&expected_shape=10%2C10%2C355%2C500' 'host:local-tiled-app' 'connection:keep-alive' 'user-agent:python-tiled/0.1.0a61' 'accept-encoding:gzip,blosc' 'accept:application/octet-stream' 'cookie:tiled_csrf=N2mWeId0VaVeoFh5Imzjj1TEz40amg_IpH0jwvTw3tY'\n",
      "12:10:03.926 -> GET 'http://local-tiled-app/api/array/block/5457ff5b-9f18-46a2-8d4d-ececa792c09d/primary/data/data_vars/eiger1m_single_image/variable?block=0%2C0%2C1%2C1&expected_shape=10%2C10%2C355%2C500' 'host:local-tiled-app' 'connection:keep-alive' 'user-agent:python-tiled/0.1.0a61' 'accept-encoding:gzip,blosc' 'accept:application/octet-stream' 'cookie:tiled_csrf=N2mWeId0VaVeoFh5Imzjj1TEz40amg_IpH0jwvTw3tY'\n",
      "12:10:03.927 -> GET 'http://local-tiled-app/api/array/block/5457ff5b-9f18-46a2-8d4d-ececa792c09d/primary/data/data_vars/eiger1m_single_image/variable?block=0%2C0%2C1%2C2&expected_shape=10%2C10%2C355%2C30' 'host:local-tiled-app' 'connection:keep-alive' 'user-agent:python-tiled/0.1.0a61' 'accept-encoding:gzip,blosc' 'accept:application/octet-stream' 'cookie:tiled_csrf=N2mWeId0VaVeoFh5Imzjj1TEz40amg_IpH0jwvTw3tY'\n",
      "12:10:03.958 -> GET 'http://local-tiled-app/api/array/block/5457ff5b-9f18-46a2-8d4d-ececa792c09d/primary/data/data_vars/eiger1m_single_image/variable?block=0%2C0%2C2%2C0&expected_shape=10%2C10%2C355%2C500' 'host:local-tiled-app' 'connection:keep-alive' 'user-agent:python-tiled/0.1.0a61' 'accept-encoding:gzip,blosc' 'accept:application/octet-stream' 'cookie:tiled_csrf=N2mWeId0VaVeoFh5Imzjj1TEz40amg_IpH0jwvTw3tY'\n",
      "12:10:03.959 -> GET 'http://local-tiled-app/api/array/block/5457ff5b-9f18-46a2-8d4d-ececa792c09d/primary/data/data_vars/eiger1m_single_image/variable?block=0%2C0%2C2%2C1&expected_shape=10%2C10%2C355%2C500' 'host:local-tiled-app' 'connection:keep-alive' 'user-agent:python-tiled/0.1.0a61' 'accept-encoding:gzip,blosc' 'accept:application/octet-stream' 'cookie:tiled_csrf=N2mWeId0VaVeoFh5Imzjj1TEz40amg_IpH0jwvTw3tY'\n",
      "12:10:03.960 -> GET 'http://local-tiled-app/api/array/block/5457ff5b-9f18-46a2-8d4d-ececa792c09d/primary/data/data_vars/eiger1m_single_image/variable?block=0%2C0%2C2%2C2&expected_shape=10%2C10%2C355%2C30' 'host:local-tiled-app' 'connection:keep-alive' 'user-agent:python-tiled/0.1.0a61' 'accept-encoding:gzip,blosc' 'accept:application/octet-stream' 'cookie:tiled_csrf=N2mWeId0VaVeoFh5Imzjj1TEz40amg_IpH0jwvTw3tY'\n",
      "'eiger1m_single_image' actually has dtype '<u2' but was reported as having dtype '<u4'. It will be converted to the reported type, but this should be fixed by setting 'dtype_str' in the data_key of the EventDescriptor. RunStart UID: '5457ff5b-9f18-46a2-8d4d-ececa792c09d'\n",
      "'eiger1m_single_image' actually has dtype '<u2' but was reported as having dtype '<u4'. It will be converted to the reported type, but this should be fixed by setting 'dtype_str' in the data_key of the EventDescriptor. RunStart UID: '5457ff5b-9f18-46a2-8d4d-ececa792c09d'\n",
      "'eiger1m_single_image' actually has dtype '<u2' but was reported as having dtype '<u4'. It will be converted to the reported type, but this should be fixed by setting 'dtype_str' in the data_key of the EventDescriptor. RunStart UID: '5457ff5b-9f18-46a2-8d4d-ececa792c09d'\n",
      "12:10:41.035 <- 200 etag:7ea13fe10f6b8769b124d8f2d1ea721d content-length:319157 content-type:application/octet-stream content-encoding:blosc vary:Accept-Encoding server-timing:acl;dur=0.2, read;dur=35486.8, tok;dur=0.1, pack;dur=1447.5, compress;dur=9.7;ratio=222.5, app;dur=37101.8\n",
      "'eiger1m_single_image' actually has dtype '<u2' but was reported as having dtype '<u4'. It will be converted to the reported type, but this should be fixed by setting 'dtype_str' in the data_key of the EventDescriptor. RunStart UID: '5457ff5b-9f18-46a2-8d4d-ececa792c09d'\n",
      "'eiger1m_single_image' actually has dtype '<u2' but was reported as having dtype '<u4'. It will be converted to the reported type, but this should be fixed by setting 'dtype_str' in the data_key of the EventDescriptor. RunStart UID: '5457ff5b-9f18-46a2-8d4d-ececa792c09d'\n",
      "'eiger1m_single_image' actually has dtype '<u2' but was reported as having dtype '<u4'. It will be converted to the reported type, but this should be fixed by setting 'dtype_str' in the data_key of the EventDescriptor. RunStart UID: '5457ff5b-9f18-46a2-8d4d-ececa792c09d'\n",
      "'eiger1m_single_image' actually has dtype '<u2' but was reported as having dtype '<u4'. It will be converted to the reported type, but this should be fixed by setting 'dtype_str' in the data_key of the EventDescriptor. RunStart UID: '5457ff5b-9f18-46a2-8d4d-ececa792c09d'\n",
      "'eiger1m_single_image' actually has dtype '<u2' but was reported as having dtype '<u4'. It will be converted to the reported type, but this should be fixed by setting 'dtype_str' in the data_key of the EventDescriptor. RunStart UID: '5457ff5b-9f18-46a2-8d4d-ececa792c09d'\n",
      "'eiger1m_single_image' actually has dtype '<u2' but was reported as having dtype '<u4'. It will be converted to the reported type, but this should be fixed by setting 'dtype_str' in the data_key of the EventDescriptor. RunStart UID: '5457ff5b-9f18-46a2-8d4d-ececa792c09d'\n",
      "12:10:47.638 <- 200 etag:d90243506cfcbb5f535c7069c599f4f9 content-length:327981 content-type:application/octet-stream content-encoding:blosc vary:Accept-Encoding server-timing:acl;dur=0.1, read;dur=37105.5, tok;dur=0.0, pack;dur=2702.9, compress;dur=9.3;ratio=216.5, app;dur=43670.8\n",
      "12:10:47.685 <- 200 etag:18217b6f6f3743e9ff0381ce6e5b8d1a content-length:326240 content-type:application/octet-stream content-encoding:blosc vary:Accept-Encoding server-timing:acl;dur=0.1, read;dur=35666.5, tok;dur=0.0, pack;dur=2277.6, compress;dur=9.3;ratio=217.6, app;dur=43751.0\n",
      "12:10:47.737 <- 200 etag:3291b9e6925d850b8a484185f4620fc1 content-length:326251 content-type:application/octet-stream content-encoding:blosc vary:Accept-Encoding server-timing:acl;dur=0.1, read;dur=36871.5, tok;dur=0.1, pack;dur=2314.9, compress;dur=11.1;ratio=217.6, app;dur=43804.3\n",
      "12:10:47.771 <- 200 etag:374654a46d9dc99f80ace3d1343a22f0 content-length:19496 content-type:application/octet-stream content-encoding:blosc vary:Accept-Encoding server-timing:acl;dur=0.2, read;dur=40763.5, tok;dur=0.0, pack;dur=735.5, compress;dur=0.9;ratio=218.5, app;dur=43838.2\n",
      "12:10:47.802 <- 200 etag:8db96c3a7426583fbeb804cd1de72e67 content-length:324230 content-type:application/octet-stream content-encoding:blosc vary:Accept-Encoding server-timing:acl;dur=0.1, read;dur=39880.9, tok;dur=0.1, pack;dur=816.0, compress;dur=10.1;ratio=219.0, app;dur=43832.9\n",
      "12:10:47.847 <- 200 etag:ff6467bed9e7b37116387cb9206d7304 content-length:319738 content-type:application/octet-stream content-encoding:blosc vary:Accept-Encoding server-timing:acl;dur=0.1, read;dur=41499.4, tok;dur=0.0, pack;dur=796.7, compress;dur=11.2;ratio=222.1, app;dur=43913.4\n",
      "12:10:47.884 <- 200 etag:df0387d645c02e8c0af9e402763ad804 content-length:20042 content-type:application/octet-stream content-encoding:blosc vary:Accept-Encoding server-timing:acl;dur=0.1, read;dur=37025.1, tok;dur=0.0, pack;dur=1965.5, compress;dur=1.0;ratio=212.6, app;dur=43950.3\n",
      "12:10:47.900 <- 200 etag:7bccefa54394cb595a793441a6bcbdc1 content-length:19828 content-type:application/octet-stream content-encoding:blosc vary:Accept-Encoding server-timing:acl;dur=0.1, read;dur=42256.5, tok;dur=0.0, pack;dur=705.3, compress;dur=0.8;ratio=214.8, app;dur=43930.9\n"
     ]
    },
    {
     "name": "stdout",
     "output_type": "stream",
     "text": [
      "44.8 sec\n"
     ]
    }
   ],
   "source": [
    "starttime = time.time() # id = 59832, Eiger 1m image\n",
    "img = results[id[0][0]]['primary'].read()[id[0][1]][5,1]\n",
    "img.compute()\n",
    "#plt.imshow(img,vmax=1000)\n",
    "elaptime = time.time()-starttime\n",
    "print(\"%.1f sec\"%elaptime)"
   ]
  },
  {
   "cell_type": "code",
   "execution_count": 4,
   "id": "92784ce2-60e9-4b61-93d7-4eabb6f847fc",
   "metadata": {},
   "outputs": [
    {
     "name": "stderr",
     "output_type": "stream",
     "text": [
      "12:10:56.346 -> GET 'http://local-tiled-app/api/node/search/?fields=&filter%5Btime_range%5D%5Bcondition%5D%5Btimezone%5D=EST5EDT&filter%5Btime_range%5D%5Bcondition%5D%5Bsince%5D=1627790400.0&filter%5Bscan_id%5D%5Bcondition%5D%5Bscan_ids%5D=62239&filter%5Bscan_id%5D%5Bcondition%5D%5Bduplicates%5D=latest&sort=time' 'host:local-tiled-app' 'accept:application/x-msgpack' 'connection:keep-alive' 'user-agent:python-tiled/0.1.0a61' 'accept-encoding:gzip,blosc' 'cookie:tiled_csrf=N2mWeId0VaVeoFh5Imzjj1TEz40amg_IpH0jwvTw3tY'\n",
      "12:10:56.629 <- 200 etag:6c7d4bb3657c1d324e8d103fc20fd20f content-length:424 content-type:application/x-msgpack server-timing:tok;dur=0.1, pack;dur=0.1, app;dur=277.3\n",
      "12:10:56.637 -> GET 'http://local-tiled-app/api/node/search/?page%5Boffset%5D=0&page%5Blimit%5D=1&filter%5Btime_range%5D%5Bcondition%5D%5Btimezone%5D=EST5EDT&filter%5Btime_range%5D%5Bcondition%5D%5Bsince%5D=1627790400.0&filter%5Bscan_id%5D%5Bcondition%5D%5Bscan_ids%5D=62239&filter%5Bscan_id%5D%5Bcondition%5D%5Bduplicates%5D=latest&sort=time' 'host:local-tiled-app' 'accept:application/x-msgpack' 'connection:keep-alive' 'user-agent:python-tiled/0.1.0a61' 'accept-encoding:gzip,blosc' 'cookie:tiled_csrf=N2mWeId0VaVeoFh5Imzjj1TEz40amg_IpH0jwvTw3tY'\n",
      "12:10:56.707 <- 200 etag:a5fbe76530900278836b397ff63d3685 content-length:2537 content-type:application/x-msgpack content-encoding:gzip vary:Accept-Encoding server-timing:tok;dur=8.6, pack;dur=0.6, compress;dur=2.6;ratio=36.0, app;dur=66.0\n",
      "12:10:56.716 -> GET 'http://local-tiled-app/api/node/search/3a2aa9fc-af49-441d-8048-b7519682cb94?filter%5Blookup%5D%5Bcondition%5D%5Bkey%5D=primary&sort=_' 'host:local-tiled-app' 'accept:application/x-msgpack' 'connection:keep-alive' 'user-agent:python-tiled/0.1.0a61' 'accept-encoding:gzip,blosc' 'cookie:tiled_csrf=N2mWeId0VaVeoFh5Imzjj1TEz40amg_IpH0jwvTw3tY'\n",
      "12:10:56.771 <- 200 etag:dec1a79405f0a007a928dfa9095a24ba expires:Fri, 20 May 2022 17:10:56 GMT content-length:2823 content-type:application/x-msgpack content-encoding:gzip vary:Accept-Encoding server-timing:acl;dur=22.9, tok;dur=0.7, pack;dur=0.2, compress;dur=0.7;ratio=7.8, app;dur=50.2\n",
      "12:10:56.783 -> GET 'http://local-tiled-app/api/node/search/3a2aa9fc-af49-441d-8048-b7519682cb94/primary?filter%5Blookup%5D%5Bcondition%5D%5Bkey%5D=data&sort=_' 'host:local-tiled-app' 'accept:application/x-msgpack' 'connection:keep-alive' 'user-agent:python-tiled/0.1.0a61' 'accept-encoding:gzip,blosc' 'cookie:tiled_csrf=N2mWeId0VaVeoFh5Imzjj1TEz40amg_IpH0jwvTw3tY'\n",
      "12:10:56.817 <- 200 etag:415e2e0286928695ba6bf1af52a2d901 expires:Fri, 20 May 2022 17:10:56 GMT content-length:3229 content-type:application/x-msgpack content-encoding:gzip vary:Accept-Encoding server-timing:acl;dur=0.1, tok;dur=1.5, pack;dur=0.3, compress;dur=1.1;ratio=8.0, app;dur=29.4\n",
      "12:10:56.826 -> GET 'http://local-tiled-app/api/array/block/3a2aa9fc-af49-441d-8048-b7519682cb94/primary/data/coords/time/variable?block=0&expected_shape=1600' 'host:local-tiled-app' 'connection:keep-alive' 'user-agent:python-tiled/0.1.0a61' 'accept-encoding:gzip,blosc' 'accept:application/octet-stream' 'cookie:tiled_csrf=N2mWeId0VaVeoFh5Imzjj1TEz40amg_IpH0jwvTw3tY'\n",
      "12:10:56.872 <- 200 etag:cd201c255db943567dae16f4409d2f0b content-length:12800 content-type:application/octet-stream server-timing:acl;dur=0.2, read;dur=20.6, tok;dur=0.4, pack;dur=0.5, app;dur=41.1\n",
      "12:10:56.879 -> GET 'http://local-tiled-app/api/node/full/3a2aa9fc-af49-441d-8048-b7519682cb94/primary/data?format=application%2Fvnd.apache.arrow.file&field=diff_xh&field=diff_xh_user_setpoint&field=diff_xv2&field=diff_xv2_user_setpoint&field=eiger4m_single_stats1_total&field=eiger4m_single_stats2_total&field=eiger4m_single_stats3_total&field=eiger4m_single_stats4_total&field=eiger4m_single_stats5_total&field=diff_yh&field=diff_yh_user_setpoint' 'host:local-tiled-app' 'accept:*/*' 'connection:keep-alive' 'user-agent:python-tiled/0.1.0a61' 'accept-encoding:gzip,blosc' 'cookie:tiled_csrf=N2mWeId0VaVeoFh5Imzjj1TEz40amg_IpH0jwvTw3tY'\n",
      "12:10:57.025 <- 200 etag:2de0365aa7a8ed27b4dc37dcfd70a059 expires:Fri, 20 May 2022 17:10:56 GMT content-length:49514 content-type:application/vnd.apache.arrow.file content-encoding:blosc vary:Accept-Encoding server-timing:acl;dur=0.1, read;dur=102.7, tok;dur=5.8, pack;dur=24.4, compress;dur=0.3;ratio=3.2, app;dur=140.9\n",
      "12:10:57.074 -> GET 'http://local-tiled-app/api/array/block/3a2aa9fc-af49-441d-8048-b7519682cb94/primary/data/data_vars/eiger4m_single_image/variable?block=0%2C0%2C0%2C0&expected_shape=10%2C1%2C1581%2C1035' 'host:local-tiled-app' 'connection:keep-alive' 'user-agent:python-tiled/0.1.0a61' 'accept-encoding:gzip,blosc' 'accept:application/octet-stream' 'cookie:tiled_csrf=N2mWeId0VaVeoFh5Imzjj1TEz40amg_IpH0jwvTw3tY'\n",
      "12:10:57.076 -> GET 'http://local-tiled-app/api/array/block/3a2aa9fc-af49-441d-8048-b7519682cb94/primary/data/data_vars/eiger4m_single_image/variable?block=0%2C0%2C0%2C1&expected_shape=10%2C1%2C1581%2C1035' 'host:local-tiled-app' 'connection:keep-alive' 'user-agent:python-tiled/0.1.0a61' 'accept-encoding:gzip,blosc' 'accept:application/octet-stream' 'cookie:tiled_csrf=N2mWeId0VaVeoFh5Imzjj1TEz40amg_IpH0jwvTw3tY'\n",
      "12:10:57.077 -> GET 'http://local-tiled-app/api/array/block/3a2aa9fc-af49-441d-8048-b7519682cb94/primary/data/data_vars/eiger4m_single_image/variable?block=0%2C0%2C1%2C0&expected_shape=10%2C1%2C586%2C1035' 'host:local-tiled-app' 'connection:keep-alive' 'user-agent:python-tiled/0.1.0a61' 'accept-encoding:gzip,blosc' 'accept:application/octet-stream' 'cookie:tiled_csrf=N2mWeId0VaVeoFh5Imzjj1TEz40amg_IpH0jwvTw3tY'\n",
      "12:10:57.079 -> GET 'http://local-tiled-app/api/array/block/3a2aa9fc-af49-441d-8048-b7519682cb94/primary/data/data_vars/eiger4m_single_image/variable?block=0%2C0%2C1%2C1&expected_shape=10%2C1%2C586%2C1035' 'host:local-tiled-app' 'connection:keep-alive' 'user-agent:python-tiled/0.1.0a61' 'accept-encoding:gzip,blosc' 'accept:application/octet-stream' 'cookie:tiled_csrf=N2mWeId0VaVeoFh5Imzjj1TEz40amg_IpH0jwvTw3tY'\n",
      "12:10:58.259 <- 200 etag:b65a08a15c8fcfce88a957df5a524ef6 content-length:25188998 content-type:application/octet-stream content-encoding:blosc vary:Accept-Encoding server-timing:acl;dur=0.1, read;dur=268.6, tok;dur=0.1, pack;dur=716.6, compress;dur=107.6;ratio=2.6, app;dur=1173.0\n",
      "12:10:59.398 <- 200 etag:6f63b2920d41c179ae67016eeba6121c content-length:9228957 content-type:application/octet-stream content-encoding:blosc vary:Accept-Encoding server-timing:acl;dur=0.2, read;dur=276.2, tok;dur=0.0, pack;dur=1374.9, compress;dur=42.9;ratio=2.6, app;dur=2311.6\n",
      "12:10:59.946 <- 200 etag:d7c8158fd9218ad536cad562f91ee374 content-length:8551413 content-type:application/octet-stream content-encoding:blosc vary:Accept-Encoding server-timing:acl;dur=0.1, read;dur=279.1, tok;dur=0.0, pack;dur=1983.8, compress;dur=36.1;ratio=2.8, app;dur=2860.2\n",
      "12:11:00.109 <- 200 etag:19fc3d21af6df0fe1ffb0fad7d503363 content-length:29390890 content-type:application/octet-stream content-encoding:blosc vary:Accept-Encoding server-timing:acl;dur=0.1, read;dur=298.8, tok;dur=0.0, pack;dur=2543.2, compress;dur=98.9;ratio=2.2, app;dur=3024.7\n"
     ]
    },
    {
     "name": "stdout",
     "output_type": "stream",
     "text": [
      "3.8 sec\n"
     ]
    }
   ],
   "source": [
    "starttime = time.time() # id = 62239, Eiger 4m image\n",
    "img = results[id[2][0]]['primary'].read()[id[2][1]][0,0]\n",
    "img.compute()\n",
    "#plt.imshow(img,vmax=1000)\n",
    "elaptime = time.time()-starttime\n",
    "print(\"%.1f sec\"%elaptime)"
   ]
  },
  {
   "cell_type": "code",
   "execution_count": null,
   "id": "276bc3b7-9bd7-4203-b94d-34ee0372c4f7",
   "metadata": {},
   "outputs": [],
   "source": []
  }
 ],
 "metadata": {
  "kernelspec": {
   "display_name": "Python 3",
   "language": "python",
   "name": "python3"
  },
  "language_info": {
   "codemirror_mode": {
    "name": "ipython",
    "version": 3
   },
   "file_extension": ".py",
   "mimetype": "text/x-python",
   "name": "python",
   "nbconvert_exporter": "python",
   "pygments_lexer": "ipython3",
   "version": "3.9.12"
  }
 },
 "nbformat": 4,
 "nbformat_minor": 5
}
