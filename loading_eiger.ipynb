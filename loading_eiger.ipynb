{
 "cells": [
  {
   "cell_type": "code",
   "execution_count": 1,
   "id": "8de49f28-c959-469d-a8da-781e0d5994bb",
   "metadata": {},
   "outputs": [
    {
     "name": "stderr",
     "output_type": "stream",
     "text": [
      "OBJECT CACHE: Will use up to 121_695_745_228 bytes (15% of total physical RAM)\n",
      "12:04:58.783 -> GET 'http://local-tiled-app/api/?root_path=true' 'host:local-tiled-app' 'accept:*/*' 'connection:keep-alive' 'user-agent:python-tiled/0.1.0a61' 'accept-encoding:gzip,blosc'\n",
      "12:04:58.806 <- 200 etag:31137cd95d17ba6e24a6d68c9545bb93 expires:Fri, 20 May 2022 16:14:58 GMT content-length:504 content-type:application/json content-encoding:gzip vary:Accept-Encoding server-timing:tok;dur=0.1, pack;dur=0.1, compress;dur=0.2;ratio=3.4, app;dur=9.4 set-cookie:tiled_csrf=iHDtr0VpyXpWWGND3c3abgeZ04YHVmK5IV3WvmlSo00; HttpOnly; Path=/; SameSite=lax\n",
      "12:04:58.815 -> GET 'http://local-tiled-app/api/?root_path=true' 'host:local-tiled-app' 'accept:application/x-msgpack' 'connection:keep-alive' 'user-agent:python-tiled/0.1.0a61' 'accept-encoding:gzip,blosc' 'cookie:tiled_csrf=iHDtr0VpyXpWWGND3c3abgeZ04YHVmK5IV3WvmlSo00'\n",
      "12:04:58.827 <- 200 etag:31137cd95d17ba6e24a6d68c9545bb93 expires:Fri, 20 May 2022 16:14:58 GMT content-length:502 content-type:application/x-msgpack content-encoding:gzip vary:Accept-Encoding server-timing:tok;dur=0.1, pack;dur=0.1, compress;dur=0.1;ratio=2.9, app;dur=8.3\n",
      "12:04:58.908 -> GET 'http://local-tiled-app/api/node/metadata/' 'host:local-tiled-app' 'accept:application/x-msgpack' 'connection:keep-alive' 'user-agent:python-tiled/0.1.0a61' 'accept-encoding:gzip,blosc' 'cookie:tiled_csrf=iHDtr0VpyXpWWGND3c3abgeZ04YHVmK5IV3WvmlSo00'\n",
      "12:04:59.101 <- 200 etag:6a43adc1f32e6771d1858999b7541d11 expires:Fri, 20 May 2022 16:14:59 GMT content-length:319 content-type:application/x-msgpack server-timing:tok;dur=0.0, pack;dur=0.0, app;dur=189.4\n"
     ]
    }
   ],
   "source": [
    "import numpy as np\n",
    "import matplotlib.pyplot as plt\n",
    "import time\n",
    "    \n",
    "    \n",
    "from tiled.client import show_logs\n",
    "show_logs()    \n",
    "from tiled.client import from_profile\n",
    "c = from_profile(\"chx\", \"dask\")\n",
    "from databroker.queries import TimeRange\n",
    "results = c.search(TimeRange(since=\"2021-08\"))"
   ]
  },
  {
   "cell_type": "code",
   "execution_count": 2,
   "id": "4fc33f5b-3a1d-4ad1-9755-935830582522",
   "metadata": {},
   "outputs": [],
   "source": [
    "id = [[59832, 'eiger1m_single_image'], [59900, 'eiger1m_single_image'], [62239, 'eiger4m_single_image']]"
   ]
  },
  {
   "cell_type": "code",
   "execution_count": null,
   "id": "0d4dc9d0-a6fd-45d5-9287-c76a20ec5768",
   "metadata": {},
   "outputs": [
    {
     "name": "stderr",
     "output_type": "stream",
     "text": [
      "12:05:11.287 -> GET 'http://local-tiled-app/api/node/search/?fields=&filter%5Btime_range%5D%5Bcondition%5D%5Btimezone%5D=EST5EDT&filter%5Btime_range%5D%5Bcondition%5D%5Bsince%5D=1627790400.0&filter%5Bscan_id%5D%5Bcondition%5D%5Bscan_ids%5D=59832&filter%5Bscan_id%5D%5Bcondition%5D%5Bduplicates%5D=latest&sort=time' 'host:local-tiled-app' 'accept:application/x-msgpack' 'connection:keep-alive' 'user-agent:python-tiled/0.1.0a61' 'accept-encoding:gzip,blosc' 'cookie:tiled_csrf=iHDtr0VpyXpWWGND3c3abgeZ04YHVmK5IV3WvmlSo00'\n",
      "12:05:11.601 <- 200 etag:ed551d7a105431b2a21a997d6562a521 content-length:424 content-type:application/x-msgpack server-timing:tok;dur=0.1, pack;dur=0.1, app;dur=308.4\n",
      "12:05:11.609 -> GET 'http://local-tiled-app/api/node/search/?page%5Boffset%5D=0&page%5Blimit%5D=1&filter%5Btime_range%5D%5Bcondition%5D%5Btimezone%5D=EST5EDT&filter%5Btime_range%5D%5Bcondition%5D%5Bsince%5D=1627790400.0&filter%5Bscan_id%5D%5Bcondition%5D%5Bscan_ids%5D=59832&filter%5Bscan_id%5D%5Bcondition%5D%5Bduplicates%5D=latest&sort=time' 'host:local-tiled-app' 'accept:application/x-msgpack' 'connection:keep-alive' 'user-agent:python-tiled/0.1.0a61' 'accept-encoding:gzip,blosc' 'cookie:tiled_csrf=iHDtr0VpyXpWWGND3c3abgeZ04YHVmK5IV3WvmlSo00'\n",
      "12:05:11.633 <- 200 etag:22a943930baca8d50d7575dc03ed6116 content-length:1348 content-type:application/x-msgpack content-encoding:gzip vary:Accept-Encoding server-timing:tok;dur=0.2, pack;dur=0.1, compress;dur=0.3;ratio=2.8, app;dur=19.5\n",
      "12:05:11.641 -> GET 'http://local-tiled-app/api/node/search/5457ff5b-9f18-46a2-8d4d-ececa792c09d?filter%5Blookup%5D%5Bcondition%5D%5Bkey%5D=primary&sort=_' 'host:local-tiled-app' 'accept:application/x-msgpack' 'connection:keep-alive' 'user-agent:python-tiled/0.1.0a61' 'accept-encoding:gzip,blosc' 'cookie:tiled_csrf=iHDtr0VpyXpWWGND3c3abgeZ04YHVmK5IV3WvmlSo00'\n",
      "12:05:11.672 <- 200 etag:43d3aadebfeb1de98ddd7e40784b5aa1 expires:Fri, 20 May 2022 17:05:11 GMT content-length:2569 content-type:application/x-msgpack content-encoding:gzip vary:Accept-Encoding server-timing:acl;dur=10.0, tok;dur=0.7, pack;dur=0.2, compress;dur=0.7;ratio=7.5, app;dur=27.0\n",
      "12:05:11.685 -> GET 'http://local-tiled-app/api/node/search/5457ff5b-9f18-46a2-8d4d-ececa792c09d/primary?filter%5Blookup%5D%5Bcondition%5D%5Bkey%5D=data&sort=_' 'host:local-tiled-app' 'accept:application/x-msgpack' 'connection:keep-alive' 'user-agent:python-tiled/0.1.0a61' 'accept-encoding:gzip,blosc' 'cookie:tiled_csrf=iHDtr0VpyXpWWGND3c3abgeZ04YHVmK5IV3WvmlSo00'\n",
      "12:05:11.721 <- 200 etag:527c29d2b5abc08bf827ac1205f8cc54 expires:Fri, 20 May 2022 17:05:11 GMT content-length:2914 content-type:application/x-msgpack content-encoding:gzip vary:Accept-Encoding server-timing:acl;dur=0.1, tok;dur=0.9, pack;dur=0.3, compress;dur=0.8;ratio=7.8, app;dur=32.4\n",
      "12:05:11.731 -> GET 'http://local-tiled-app/api/array/block/5457ff5b-9f18-46a2-8d4d-ececa792c09d/primary/data/coords/time/variable?block=0&expected_shape=40' 'host:local-tiled-app' 'connection:keep-alive' 'user-agent:python-tiled/0.1.0a61' 'accept-encoding:gzip,blosc' 'accept:application/octet-stream' 'cookie:tiled_csrf=iHDtr0VpyXpWWGND3c3abgeZ04YHVmK5IV3WvmlSo00'\n",
      "12:05:11.755 <- 200 etag:72ea48226b22df555c967bf5b900b01c content-length:320 content-type:application/octet-stream server-timing:acl;dur=0.2, read;dur=2.9, tok;dur=0.2, pack;dur=0.4, app;dur=20.0\n",
      "12:05:12.026 -> GET 'http://local-tiled-app/api/node/full/5457ff5b-9f18-46a2-8d4d-ececa792c09d/primary/data?format=application%2Fvnd.apache.arrow.file&field=eiger1m_single_stats1_total&field=eiger1m_single_stats2_total&field=eiger1m_single_stats3_total&field=eiger1m_single_stats4_total&field=eiger1m_single_stats5_total&field=diff_phh&field=diff_phh_user_setpoint' 'host:local-tiled-app' 'accept:*/*' 'connection:keep-alive' 'user-agent:python-tiled/0.1.0a61' 'accept-encoding:gzip,blosc' 'cookie:tiled_csrf=iHDtr0VpyXpWWGND3c3abgeZ04YHVmK5IV3WvmlSo00'\n",
      "12:05:12.074 <- 200 etag:22940911da00728a0ebcc6fd5f9a6669 expires:Fri, 20 May 2022 17:05:12 GMT content-length:2719 content-type:application/vnd.apache.arrow.file content-encoding:blosc vary:Accept-Encoding server-timing:acl;dur=0.2, read;dur=11.2, tok;dur=9.2, pack;dur=20.3, compress;dur=0.1;ratio=2.6, app;dur=43.5\n",
      "12:05:12.113 -> GET 'http://local-tiled-app/api/array/block/5457ff5b-9f18-46a2-8d4d-ececa792c09d/primary/data/data_vars/eiger1m_single_image/variable?block=0%2C0%2C0%2C0&expected_shape=10%2C10%2C355%2C500' 'host:local-tiled-app' 'connection:keep-alive' 'user-agent:python-tiled/0.1.0a61' 'accept-encoding:gzip,blosc' 'accept:application/octet-stream' 'cookie:tiled_csrf=iHDtr0VpyXpWWGND3c3abgeZ04YHVmK5IV3WvmlSo00'\n",
      "12:05:12.117 -> GET 'http://local-tiled-app/api/array/block/5457ff5b-9f18-46a2-8d4d-ececa792c09d/primary/data/data_vars/eiger1m_single_image/variable?block=0%2C0%2C0%2C1&expected_shape=10%2C10%2C355%2C500' 'host:local-tiled-app' 'connection:keep-alive' 'user-agent:python-tiled/0.1.0a61' 'accept-encoding:gzip,blosc' 'accept:application/octet-stream' 'cookie:tiled_csrf=iHDtr0VpyXpWWGND3c3abgeZ04YHVmK5IV3WvmlSo00'\n",
      "12:05:12.124 -> GET 'http://local-tiled-app/api/array/block/5457ff5b-9f18-46a2-8d4d-ececa792c09d/primary/data/data_vars/eiger1m_single_image/variable?block=0%2C0%2C0%2C2&expected_shape=10%2C10%2C355%2C30' 'host:local-tiled-app' 'connection:keep-alive' 'user-agent:python-tiled/0.1.0a61' 'accept-encoding:gzip,blosc' 'accept:application/octet-stream' 'cookie:tiled_csrf=iHDtr0VpyXpWWGND3c3abgeZ04YHVmK5IV3WvmlSo00'\n",
      "12:05:12.129 -> GET 'http://local-tiled-app/api/array/block/5457ff5b-9f18-46a2-8d4d-ececa792c09d/primary/data/data_vars/eiger1m_single_image/variable?block=0%2C0%2C1%2C0&expected_shape=10%2C10%2C355%2C500' 'host:local-tiled-app' 'connection:keep-alive' 'user-agent:python-tiled/0.1.0a61' 'accept-encoding:gzip,blosc' 'accept:application/octet-stream' 'cookie:tiled_csrf=iHDtr0VpyXpWWGND3c3abgeZ04YHVmK5IV3WvmlSo00'\n",
      "12:05:12.150 -> GET 'http://local-tiled-app/api/array/block/5457ff5b-9f18-46a2-8d4d-ececa792c09d/primary/data/data_vars/eiger1m_single_image/variable?block=0%2C0%2C1%2C1&expected_shape=10%2C10%2C355%2C500' 'host:local-tiled-app' 'connection:keep-alive' 'user-agent:python-tiled/0.1.0a61' 'accept-encoding:gzip,blosc' 'accept:application/octet-stream' 'cookie:tiled_csrf=iHDtr0VpyXpWWGND3c3abgeZ04YHVmK5IV3WvmlSo00'\n",
      "12:05:12.152 -> GET 'http://local-tiled-app/api/array/block/5457ff5b-9f18-46a2-8d4d-ececa792c09d/primary/data/data_vars/eiger1m_single_image/variable?block=0%2C0%2C1%2C2&expected_shape=10%2C10%2C355%2C30' 'host:local-tiled-app' 'connection:keep-alive' 'user-agent:python-tiled/0.1.0a61' 'accept-encoding:gzip,blosc' 'accept:application/octet-stream' 'cookie:tiled_csrf=iHDtr0VpyXpWWGND3c3abgeZ04YHVmK5IV3WvmlSo00'\n",
      "12:05:12.153 -> GET 'http://local-tiled-app/api/array/block/5457ff5b-9f18-46a2-8d4d-ececa792c09d/primary/data/data_vars/eiger1m_single_image/variable?block=0%2C0%2C2%2C0&expected_shape=10%2C10%2C355%2C500' 'host:local-tiled-app' 'connection:keep-alive' 'user-agent:python-tiled/0.1.0a61' 'accept-encoding:gzip,blosc' 'accept:application/octet-stream' 'cookie:tiled_csrf=iHDtr0VpyXpWWGND3c3abgeZ04YHVmK5IV3WvmlSo00'\n",
      "12:05:12.155 -> GET 'http://local-tiled-app/api/array/block/5457ff5b-9f18-46a2-8d4d-ececa792c09d/primary/data/data_vars/eiger1m_single_image/variable?block=0%2C0%2C2%2C1&expected_shape=10%2C10%2C355%2C500' 'host:local-tiled-app' 'connection:keep-alive' 'user-agent:python-tiled/0.1.0a61' 'accept-encoding:gzip,blosc' 'accept:application/octet-stream' 'cookie:tiled_csrf=iHDtr0VpyXpWWGND3c3abgeZ04YHVmK5IV3WvmlSo00'\n",
      "12:05:12.156 -> GET 'http://local-tiled-app/api/array/block/5457ff5b-9f18-46a2-8d4d-ececa792c09d/primary/data/data_vars/eiger1m_single_image/variable?block=0%2C0%2C2%2C2&expected_shape=10%2C10%2C355%2C30' 'host:local-tiled-app' 'connection:keep-alive' 'user-agent:python-tiled/0.1.0a61' 'accept-encoding:gzip,blosc' 'accept:application/octet-stream' 'cookie:tiled_csrf=iHDtr0VpyXpWWGND3c3abgeZ04YHVmK5IV3WvmlSo00'\n",
      "'eiger1m_single_image' actually has dtype '<u2' but was reported as having dtype '<u4'. It will be converted to the reported type, but this should be fixed by setting 'dtype_str' in the data_key of the EventDescriptor. RunStart UID: '5457ff5b-9f18-46a2-8d4d-ececa792c09d'\n",
      "12:05:49.225 <- 200 etag:374654a46d9dc99f80ace3d1343a22f0 content-length:19496 content-type:application/octet-stream content-encoding:blosc vary:Accept-Encoding server-timing:acl;dur=0.2, read;dur=36098.8, tok;dur=0.1, pack;dur=855.5, compress;dur=1.4;ratio=218.5, app;dur=37087.7\n",
      "'eiger1m_single_image' actually has dtype '<u2' but was reported as having dtype '<u4'. It will be converted to the reported type, but this should be fixed by setting 'dtype_str' in the data_key of the EventDescriptor. RunStart UID: '5457ff5b-9f18-46a2-8d4d-ececa792c09d'\n"
     ]
    }
   ],
   "source": [
    "starttime = time.time() # id = 59832, Eiger 1m image\n",
    "img = results[id[0][0]]['primary'].read()[id[0][1]][5,1]\n",
    "img.compute()\n",
    "#plt.imshow(img,vmax=1000)\n",
    "elaptime = time.time()-starttime\n",
    "print(\"%.1f sec\"%elaptime)"
   ]
  },
  {
   "cell_type": "code",
   "execution_count": 14,
   "id": "92784ce2-60e9-4b61-93d7-4eabb6f847fc",
   "metadata": {},
   "outputs": [
    {
     "name": "stderr",
     "output_type": "stream",
     "text": [
      "12:03:58.206 -> GET 'http://local-tiled-app/api/node/search/?fields=&filter%5Btime_range%5D%5Bcondition%5D%5Btimezone%5D=EST5EDT&filter%5Btime_range%5D%5Bcondition%5D%5Bsince%5D=1627790400.0&filter%5Bscan_id%5D%5Bcondition%5D%5Bscan_ids%5D=62239&filter%5Bscan_id%5D%5Bcondition%5D%5Bduplicates%5D=latest&sort=time' 'host:local-tiled-app' 'accept:application/x-msgpack' 'connection:keep-alive' 'user-agent:python-tiled/0.1.0a61' 'accept-encoding:gzip,blosc' 'cookie:tiled_csrf=nRbasSCAeakRw6tTPxf5eLfms8fJIPjmURpnf6LN1c0'\n",
      "12:03:58.494 <- 200 etag:6c7d4bb3657c1d324e8d103fc20fd20f content-length:424 content-type:application/x-msgpack server-timing:tok;dur=0.1, pack;dur=0.1, app;dur=282.2\n",
      "12:03:58.501 -> GET 'http://local-tiled-app/api/node/search/?page%5Boffset%5D=0&page%5Blimit%5D=1&filter%5Btime_range%5D%5Bcondition%5D%5Btimezone%5D=EST5EDT&filter%5Btime_range%5D%5Bcondition%5D%5Bsince%5D=1627790400.0&filter%5Bscan_id%5D%5Bcondition%5D%5Bscan_ids%5D=62239&filter%5Bscan_id%5D%5Bcondition%5D%5Bduplicates%5D=latest&sort=time' 'host:local-tiled-app' 'accept:application/x-msgpack' 'connection:keep-alive' 'user-agent:python-tiled/0.1.0a61' 'accept-encoding:gzip,blosc' 'cookie:tiled_csrf=nRbasSCAeakRw6tTPxf5eLfms8fJIPjmURpnf6LN1c0'\n",
      "12:03:58.577 <- 200 etag:a5fbe76530900278836b397ff63d3685 content-length:2537 content-type:application/x-msgpack content-encoding:gzip vary:Accept-Encoding server-timing:tok;dur=8.1, pack;dur=0.6, compress;dur=2.6;ratio=36.0, app;dur=71.5\n",
      "12:03:58.585 -> GET 'http://local-tiled-app/api/node/search/3a2aa9fc-af49-441d-8048-b7519682cb94?filter%5Blookup%5D%5Bcondition%5D%5Bkey%5D=primary&sort=_' 'host:local-tiled-app' 'accept:application/x-msgpack' 'connection:keep-alive' 'user-agent:python-tiled/0.1.0a61' 'accept-encoding:gzip,blosc' 'cookie:tiled_csrf=nRbasSCAeakRw6tTPxf5eLfms8fJIPjmURpnf6LN1c0'\n",
      "12:03:58.638 <- 200 etag:dec1a79405f0a007a928dfa9095a24ba expires:Fri, 20 May 2022 17:03:58 GMT content-length:2823 content-type:application/x-msgpack content-encoding:gzip vary:Accept-Encoding server-timing:acl;dur=23.8, tok;dur=1.1, pack;dur=0.3, compress;dur=0.9;ratio=7.8, app;dur=48.2\n",
      "12:03:58.646 -> GET 'http://local-tiled-app/api/node/search/3a2aa9fc-af49-441d-8048-b7519682cb94/primary?filter%5Blookup%5D%5Bcondition%5D%5Bkey%5D=data&sort=_' 'host:local-tiled-app' 'accept:application/x-msgpack' 'connection:keep-alive' 'user-agent:python-tiled/0.1.0a61' 'accept-encoding:gzip,blosc' 'cookie:tiled_csrf=nRbasSCAeakRw6tTPxf5eLfms8fJIPjmURpnf6LN1c0'\n",
      "12:03:58.680 <- 200 etag:415e2e0286928695ba6bf1af52a2d901 expires:Fri, 20 May 2022 17:03:58 GMT content-length:3229 content-type:application/x-msgpack content-encoding:gzip vary:Accept-Encoding server-timing:acl;dur=0.2, tok;dur=1.1, pack;dur=0.3, compress;dur=1.6;ratio=8.0, app;dur=29.4\n",
      "12:03:58.688 -> GET 'http://local-tiled-app/api/array/block/3a2aa9fc-af49-441d-8048-b7519682cb94/primary/data/coords/time/variable?block=0&expected_shape=1600' 'host:local-tiled-app' 'connection:keep-alive' 'user-agent:python-tiled/0.1.0a61' 'accept-encoding:gzip,blosc' 'accept:application/octet-stream' 'cookie:tiled_csrf=nRbasSCAeakRw6tTPxf5eLfms8fJIPjmURpnf6LN1c0'\n",
      "12:03:58.738 <- 200 etag:cd201c255db943567dae16f4409d2f0b content-length:12800 content-type:application/octet-stream server-timing:acl;dur=0.2, read;dur=19.9, tok;dur=0.3, pack;dur=0.4, app;dur=44.5\n",
      "12:03:58.746 -> GET 'http://local-tiled-app/api/node/full/3a2aa9fc-af49-441d-8048-b7519682cb94/primary/data?format=application%2Fvnd.apache.arrow.file&field=diff_xh&field=diff_xh_user_setpoint&field=diff_xv2&field=diff_xv2_user_setpoint&field=eiger4m_single_stats1_total&field=eiger4m_single_stats2_total&field=eiger4m_single_stats3_total&field=eiger4m_single_stats4_total&field=eiger4m_single_stats5_total&field=diff_yh&field=diff_yh_user_setpoint' 'host:local-tiled-app' 'accept:*/*' 'connection:keep-alive' 'user-agent:python-tiled/0.1.0a61' 'accept-encoding:gzip,blosc' 'cookie:tiled_csrf=nRbasSCAeakRw6tTPxf5eLfms8fJIPjmURpnf6LN1c0'\n",
      "12:03:58.911 <- 200 etag:2de0365aa7a8ed27b4dc37dcfd70a059 expires:Fri, 20 May 2022 17:03:58 GMT content-length:49514 content-type:application/vnd.apache.arrow.file content-encoding:blosc vary:Accept-Encoding server-timing:acl;dur=0.1, read;dur=118.2, tok;dur=12.9, pack;dur=26.7, compress;dur=0.4;ratio=3.2, app;dur=160.1\n",
      "12:03:58.959 -> GET 'http://local-tiled-app/api/array/block/3a2aa9fc-af49-441d-8048-b7519682cb94/primary/data/data_vars/eiger4m_single_image/variable?block=20%2C0%2C0%2C0&expected_shape=10%2C1%2C1581%2C1035' 'host:local-tiled-app' 'connection:keep-alive' 'user-agent:python-tiled/0.1.0a61' 'accept-encoding:gzip,blosc' 'accept:application/octet-stream' 'cookie:tiled_csrf=nRbasSCAeakRw6tTPxf5eLfms8fJIPjmURpnf6LN1c0'\n",
      "12:03:58.961 -> GET 'http://local-tiled-app/api/array/block/3a2aa9fc-af49-441d-8048-b7519682cb94/primary/data/data_vars/eiger4m_single_image/variable?block=20%2C0%2C0%2C1&expected_shape=10%2C1%2C1581%2C1035' 'host:local-tiled-app' 'connection:keep-alive' 'user-agent:python-tiled/0.1.0a61' 'accept-encoding:gzip,blosc' 'accept:application/octet-stream' 'cookie:tiled_csrf=nRbasSCAeakRw6tTPxf5eLfms8fJIPjmURpnf6LN1c0'\n",
      "12:03:58.963 -> GET 'http://local-tiled-app/api/array/block/3a2aa9fc-af49-441d-8048-b7519682cb94/primary/data/data_vars/eiger4m_single_image/variable?block=20%2C0%2C1%2C0&expected_shape=10%2C1%2C586%2C1035' 'host:local-tiled-app' 'connection:keep-alive' 'user-agent:python-tiled/0.1.0a61' 'accept-encoding:gzip,blosc' 'accept:application/octet-stream' 'cookie:tiled_csrf=nRbasSCAeakRw6tTPxf5eLfms8fJIPjmURpnf6LN1c0'\n",
      "12:03:58.965 -> GET 'http://local-tiled-app/api/array/block/3a2aa9fc-af49-441d-8048-b7519682cb94/primary/data/data_vars/eiger4m_single_image/variable?block=20%2C0%2C1%2C1&expected_shape=10%2C1%2C586%2C1035' 'host:local-tiled-app' 'connection:keep-alive' 'user-agent:python-tiled/0.1.0a61' 'accept-encoding:gzip,blosc' 'accept:application/octet-stream' 'cookie:tiled_csrf=nRbasSCAeakRw6tTPxf5eLfms8fJIPjmURpnf6LN1c0'\n",
      "12:04:00.170 <- 200 etag:a2818121277a1959180299c68a5491a8 content-length:29123801 content-type:application/octet-stream content-encoding:blosc vary:Accept-Encoding server-timing:acl;dur=0.2, read;dur=264.7, tok;dur=0.0, pack;dur=762.5, compress;dur=87.4;ratio=2.2, app;dur=1199.2\n",
      "12:04:02.002 <- 200 etag:e87081baa4f864446e4bcd757d3ef107 content-length:24977393 content-type:application/octet-stream content-encoding:blosc vary:Accept-Encoding server-timing:acl;dur=0.2, read;dur=295.1, tok;dur=0.0, pack;dur=2348.4, compress;dur=113.8;ratio=2.6, app;dur=3031.2\n",
      "12:04:02.052 <- 200 etag:fe7bef020ec56c85a30a0b3e9ff98da8 content-length:9166148 content-type:application/octet-stream content-encoding:blosc vary:Accept-Encoding server-timing:acl;dur=0.2, read;dur=299.4, tok;dur=0.1, pack;dur=1367.0, compress;dur=39.9;ratio=2.6, app;dur=3031.1\n",
      "12:04:02.109 <- 200 etag:8ae050525547aa91a600d3aeae7e1293 content-length:8499716 content-type:application/octet-stream content-encoding:blosc vary:Accept-Encoding server-timing:acl;dur=0.2, read;dur=977.0, tok;dur=0.0, pack;dur=1992.0, compress;dur=36.4;ratio=2.9, app;dur=3138.4\n"
     ]
    },
    {
     "name": "stdout",
     "output_type": "stream",
     "text": [
      "3.9 sec\n"
     ]
    }
   ],
   "source": [
    "starttime = time.time() # id = 62239, Eiger 4m image\n",
    "img = results[id[2][0]]['primary'].read()[id[2][1]][200,0]\n",
    "img.compute()\n",
    "#plt.imshow(img,vmax=1000)\n",
    "elaptime = time.time()-starttime\n",
    "print(\"%.1f sec\"%elaptime)"
   ]
  },
  {
   "cell_type": "code",
   "execution_count": null,
   "id": "276bc3b7-9bd7-4203-b94d-34ee0372c4f7",
   "metadata": {},
   "outputs": [],
   "source": []
  }
 ],
 "metadata": {
  "kernelspec": {
   "display_name": "Python 3",
   "language": "python",
   "name": "python3"
  },
  "language_info": {
   "codemirror_mode": {
    "name": "ipython",
    "version": 3
   },
   "file_extension": ".py",
   "mimetype": "text/x-python",
   "name": "python",
   "nbconvert_exporter": "python",
   "pygments_lexer": "ipython3",
   "version": "3.9.12"
  }
 },
 "nbformat": 4,
 "nbformat_minor": 5
}
