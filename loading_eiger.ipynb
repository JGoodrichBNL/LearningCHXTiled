{
 "cells": [
  {
   "cell_type": "code",
   "execution_count": null,
   "id": "8de49f28-c959-469d-a8da-781e0d5994bb",
   "metadata": {},
   "outputs": [],
   "source": [
    "import numpy as np\n",
    "import matplotlib.pyplot as plt\n",
    "import time\n",
    "    \n",
    "    \n",
    "from tiled.client import show_logs\n",
    "show_logs()    \n",
    "from tiled.client import from_profile\n",
    "c = from_profile(\"chx\", \"dask\")\n",
    "from databroker.queries import TimeRange\n",
    "results = c.search(TimeRange(since=\"2021-08\"))"
   ]
  },
  {
   "cell_type": "code",
   "execution_count": null,
   "id": "4fc33f5b-3a1d-4ad1-9755-935830582522",
   "metadata": {},
   "outputs": [],
   "source": [
    "id = [[59832, 'eiger1m_single_image'], [59900, 'eiger1m_single_image'], [62239, 'eiger4m_single_image']]"
   ]
  },
  {
   "cell_type": "code",
   "execution_count": null,
   "id": "0d4dc9d0-a6fd-45d5-9287-c76a20ec5768",
   "metadata": {},
   "outputs": [],
   "source": [
    "starttime = time.time() # id = 59832, Eiger 1m image\n",
    "img = results[id[0][0]]['primary'].read()[id[0][1]][5,1]\n",
    "img.compute()\n",
    "#plt.imshow(img,vmax=1000)\n",
    "elaptime = time.time()-starttime\n",
    "print(\"%.1f sec\"%elaptime)"
   ]
  },
  {
   "cell_type": "code",
   "execution_count": null,
   "id": "92784ce2-60e9-4b61-93d7-4eabb6f847fc",
   "metadata": {},
   "outputs": [],
   "source": [
    "starttime = time.time() # id = 62239, Eiger 4m image\n",
    "img = results[id[2][0]]['primary'].read()[id[2][1]][0,0]\n",
    "img.compute()\n",
    "#plt.imshow(img,vmax=1000)\n",
    "elaptime = time.time()-starttime\n",
    "print(\"%.1f sec\"%elaptime)"
   ]
  },
  {
   "cell_type": "code",
   "execution_count": null,
   "id": "276bc3b7-9bd7-4203-b94d-34ee0372c4f7",
   "metadata": {},
   "outputs": [],
   "source": []
  }
 ],
 "metadata": {
  "kernelspec": {
   "display_name": "Python 3",
   "language": "python",
   "name": "python3"
  },
  "language_info": {
   "codemirror_mode": {
    "name": "ipython",
    "version": 3
   },
   "file_extension": ".py",
   "mimetype": "text/x-python",
   "name": "python",
   "nbconvert_exporter": "python",
   "pygments_lexer": "ipython3",
   "version": "3.9.12"
  }
 },
 "nbformat": 4,
 "nbformat_minor": 5
}
